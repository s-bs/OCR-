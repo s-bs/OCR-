{
 "cells": [
  {
   "cell_type": "markdown",
   "id": "bd522001-acea-464f-848f-e7201996471c",
   "metadata": {},
   "source": [
    "OCR NORMAL IMAGE"
   ]
  },
  {
   "cell_type": "code",
   "execution_count": null,
   "id": "9c75f510-9464-48e5-9593-4b7210d6b8d0",
   "metadata": {},
   "outputs": [],
   "source": [
    "# import library\n",
    "import cv2\n",
    "from matplotlib import pyplot as plt\n",
    "import pytesseract \n",
    "pytesseract.pytesseract.tesseract_cmd=r\"C:\\\\Program Files\\\\Tesseract-OCR\\\\tesseract.exe\""
   ]
  },
  {
   "cell_type": "code",
   "execution_count": null,
   "id": "9820247d-d454-480c-a803-c7802ebc0b03",
   "metadata": {},
   "outputs": [],
   "source": [
    "# import image for ocr\n",
    "img = cv2.imread(\"../resources/image/ocr.JPG\")"
   ]
  },
  {
   "cell_type": "code",
   "execution_count": null,
   "id": "164f0e68-d03c-4d73-8b4d-8876c77e05ef",
   "metadata": {},
   "outputs": [],
   "source": [
    "#displaying-different-images-with-actual-size-in-matplotlib-subplot\n",
    "def display(im_path):\n",
    "    dpi = 80\n",
    "    im_data = plt.imread(im_path)\n",
    "\n",
    "    height, width  = im_data.shape[:2]\n",
    "    \n",
    "    # What size does the figure need to be in inches to fit the image?\n",
    "    figsize = width / float(dpi), height / float(dpi)\n",
    "\n",
    "    # Create a figure of the right size with one axes that takes up the full figure\n",
    "    fig = plt.figure(figsize=figsize)\n",
    "    ax = fig.add_axes([0, 0, 1, 1])\n",
    "\n",
    "    # Hide spines, ticks, etc.\n",
    "    ax.axis('off')\n",
    "\n",
    "    # Display the image.\n",
    "    ax.imshow(im_data, cmap='gray')\n",
    "\n",
    "    plt.show()"
   ]
  },
  {
   "cell_type": "code",
   "execution_count": null,
   "id": "d2407061-acac-4fce-a83c-b5ae3575f5e2",
   "metadata": {},
   "outputs": [],
   "source": [
    "display(\"../resources/image/ocr.JPG\")"
   ]
  },
  {
   "cell_type": "code",
   "execution_count": null,
   "id": "51e0ad43-5509-4b55-af85-4b0c5fa5a200",
   "metadata": {},
   "outputs": [],
   "source": [
    "# Apply OCR\n",
    "text =pytesseract.image_to_string(img)"
   ]
  },
  {
   "cell_type": "code",
   "execution_count": null,
   "id": "1d543fb8-ebee-4aaa-ae65-247fc76edd3a",
   "metadata": {},
   "outputs": [],
   "source": [
    "# Output of OCR\n",
    "print(text)"
   ]
  },
  {
   "cell_type": "markdown",
   "id": "0c79c3ba-da45-498a-bed5-a33b3de27848",
   "metadata": {},
   "source": [
    "OCR SKEW IMAGE"
   ]
  },
  {
   "cell_type": "code",
   "execution_count": null,
   "id": "b49d116d-9530-47bc-a8eb-8fe8423374a5",
   "metadata": {},
   "outputs": [],
   "source": [
    "# load skew-image\n",
    "skew_img = cv2.imread(\"../resources/image/ocr3.jpg\")"
   ]
  },
  {
   "cell_type": "code",
   "execution_count": null,
   "id": "db88e8c3-3bce-4468-bce9-879a3d1c15d3",
   "metadata": {},
   "outputs": [],
   "source": [
    "display(\"../resources/image/ocr3.jpg\")"
   ]
  },
  {
   "cell_type": "code",
   "execution_count": null,
   "id": "1a1724e6-9db1-4d88-a359-d598a465e465",
   "metadata": {},
   "outputs": [],
   "source": [
    "import numpy as np\n",
    "# find Angle of skew-image\n",
    "def getSkewAngle(cvImage) -> float:\n",
    "    # Prep image, copy, convert to gray scale, blur, and threshold\n",
    "    newImage = cvImage.copy()\n",
    "    gray = cv2.cvtColor(newImage, cv2.COLOR_BGR2GRAY)\n",
    "    blur = cv2.GaussianBlur(gray, (9, 9), 0)\n",
    "    thresh = cv2.threshold(blur, 0, 255, cv2.THRESH_BINARY_INV + cv2.THRESH_OTSU)[1]\n",
    "\n",
    "    # Apply dilate to merge text into meaningful lines/paragraphs.\n",
    "    # Use larger kernel on X axis to merge characters into single line, cancelling out any spaces.\n",
    "    # But use smaller kernel on Y axis to separate between different blocks of text\n",
    "    kernel = cv2.getStructuringElement(cv2.MORPH_RECT, (30, 5))\n",
    "    dilate = cv2.dilate(thresh, kernel, iterations=2)\n",
    "\n",
    "    # Find all contours\n",
    "    contours, hierarchy = cv2.findContours(dilate, cv2.RETR_LIST, cv2.CHAIN_APPROX_SIMPLE)\n",
    "    contours = sorted(contours, key = cv2.contourArea, reverse = True)\n",
    "    for c in contours:\n",
    "        rect = cv2.boundingRect(c)\n",
    "        x,y,w,h = rect\n",
    "        cv2.rectangle(newImage,(x,y),(x+w,y+h),(0,255,0),2)\n",
    "\n",
    "    # Find largest contour and surround in min area box\n",
    "    largestContour = contours[0]\n",
    "    print (len(contours))\n",
    "    minAreaRect = cv2.minAreaRect(largestContour)\n",
    "    cv2.imwrite(\"temp/boxes.jpg\", newImage)\n",
    "    # Determine the angle. Convert it to the value that was originally used to obtain skewed image\n",
    "    angle = minAreaRect[-1]\n",
    "    if angle < -45:\n",
    "        angle = 90 + angle\n",
    "    return -1.0 * angle\n",
    "# Rotate the image around its center\n",
    "def rotateImage(cvImage, angle: float):\n",
    "    newImage = cvImage.copy()\n",
    "    (h, w) = newImage.shape[:2]\n",
    "    center = (w // 2, h // 2)\n",
    "    M = cv2.getRotationMatrix2D(center, angle, 1.0)\n",
    "    newImage = cv2.warpAffine(newImage, M, (w, h), flags=cv2.INTER_CUBIC, borderMode=cv2.BORDER_REPLICATE)\n",
    "    return newImage"
   ]
  },
  {
   "cell_type": "code",
   "execution_count": null,
   "id": "8ad46d82-9873-43c0-af20-d10bbfd4594d",
   "metadata": {},
   "outputs": [],
   "source": [
    "# Deskew image\n",
    "def deskew(cvImage):\n",
    "    angle = getSkewAngle(cvImage)\n",
    "    return rotateImage(cvImage, -1.0 * angle)"
   ]
  },
  {
   "cell_type": "code",
   "execution_count": null,
   "id": "776b375f-c6a9-4dda-b0bf-06582803a0a8",
   "metadata": {},
   "outputs": [],
   "source": [
    "fixed = deskew(skew_img)\n",
    "cv2.imwrite(\"../resources/image/deskew_img.jpg\", fixed)"
   ]
  },
  {
   "cell_type": "code",
   "execution_count": null,
   "id": "3524f7ed-220f-495c-82f4-268def7ea437",
   "metadata": {},
   "outputs": [],
   "source": [
    "# show deskw image\n",
    "display(\"../resources/image/deskew_img.jpg\")"
   ]
  },
  {
   "cell_type": "code",
   "execution_count": null,
   "id": "e6dddce5-7a59-4095-a13e-4da6506df414",
   "metadata": {},
   "outputs": [],
   "source": [
    "deskew_img = cv2.imread(\"../resources/image/deskew_img.jpg\")"
   ]
  },
  {
   "cell_type": "code",
   "execution_count": null,
   "id": "621acf69-13b3-4313-91c3-cb84bd3ca881",
   "metadata": {},
   "outputs": [],
   "source": [
    "deskew_text=pytesseract.image_to_string(deskew_img)"
   ]
  },
  {
   "cell_type": "code",
   "execution_count": null,
   "id": "f6e80d48-8a4c-4c38-9c9b-45a192397d8a",
   "metadata": {},
   "outputs": [],
   "source": [
    "print(deskew_text)"
   ]
  }
 ],
 "metadata": {
  "kernelspec": {
   "display_name": "Python 3 (ipykernel)",
   "language": "python",
   "name": "python3"
  },
  "language_info": {
   "codemirror_mode": {
    "name": "ipython",
    "version": 3
   },
   "file_extension": ".py",
   "mimetype": "text/x-python",
   "name": "python",
   "nbconvert_exporter": "python",
   "pygments_lexer": "ipython3",
   "version": "3.11.5"
  }
 },
 "nbformat": 4,
 "nbformat_minor": 5
}
